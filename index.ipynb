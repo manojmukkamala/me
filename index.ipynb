{
 "cells": [
  {
   "cell_type": "markdown",
   "metadata": {
    "hideCode": true,
    "hidePrompt": true
   },
   "source": [
    "Welcome to my Web Presence\n",
    "---\n",
    "---\n",
    " \n",
    " <br>\n",
    " \n",
    " - Project __GiJu__ documentation can be found at __[GiJu Documentation](giju/giju.html)__. <br> <br>\n",
    " \n",
    "I have created the following reports in Jupyter Notebook by following the steps in Project GiJu\n",
    "\n",
    "- __[DataVisualization](pythonreports/DataVisualization.html)__ page has the exercises from Kaggle's __[Data Visualization](https://www.kaggle.com/alexisbcook/hello-seaborn)__ course.<br>\n",
    "\n",
    "\n",
    "- __[DataVisualizationfromNon-CoderToCoder](pythonreports/DataVisualizationfromNon-CoderToCoder.html)__ page has the exercises from Kaggle's another __[Data Visualization](https://www.kaggle.com/residentmario/welcome-to-data-visualization)__ course.\n",
    "\n",
    "<br>\n",
    "\n",
    "--- "
   ]
  },
  {
   "cell_type": "markdown",
   "metadata": {},
   "source": [
    "<img src=\"space.png\">"
   ]
  },
  {
   "cell_type": "markdown",
   "metadata": {},
   "source": [
    "\n",
    "<h6><center>Mankind was born on Earth. It was never meant to die here.<center></h6>"
   ]
  }
 ],
 "metadata": {
  "hide_code_all_hidden": true,
  "hide_input": false,
  "kernelspec": {
   "display_name": "Python 3",
   "language": "python",
   "name": "python3"
  },
  "language_info": {
   "codemirror_mode": {
    "name": "ipython",
    "version": 3
   },
   "file_extension": ".py",
   "mimetype": "text/x-python",
   "name": "python",
   "nbconvert_exporter": "python",
   "pygments_lexer": "ipython3",
   "version": "3.7.1"
  }
 },
 "nbformat": 4,
 "nbformat_minor": 2
}
