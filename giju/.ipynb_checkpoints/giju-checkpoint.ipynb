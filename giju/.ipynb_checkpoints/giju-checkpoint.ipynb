{
 "cells": [
  {
   "cell_type": "markdown",
   "metadata": {
    "hideCode": false,
    "hidePrompt": false
   },
   "source": [
    "<h1><center>Gi-Ju</center></h1>\n",
    "\n",
    "\n",
    "<h4><center>Create Beautiful Websites to present your Analysis using Jupyter Notebook and Git Hub<center></h4>\n",
    "\n",
    "\n",
    "<img src=\"giju.PNG\" width=\"600\" height=\"200\">\n",
    "\n",
    "\n",
    "---"
   ]
  },
  {
   "cell_type": "markdown",
   "metadata": {
    "hideCode": false,
    "hidePrompt": false
   },
   "source": [
    "\n",
    "Installations\n",
    "---\n",
    "\n",
    "\n",
    "1.\tDownload and Install the Anaconda distribution from __[Anaconda Website](https://www.anaconda.com/distribution/#download-section)__.<br>\t\n",
    "\n",
    "2.\tWindows users, download and install the Git Bash from __[Git Website](https://git-scm.com/downloads)__.\n",
    "<br>\n",
    "---\n",
    "\n"
   ]
  },
  {
   "cell_type": "markdown",
   "metadata": {
    "hideCode": false,
    "hidePrompt": false
   },
   "source": [
    "Configure Project Repositories\n",
    "---\n",
    "\n",
    "\n",
    "1.\tCreate an empty GitHub repository with the name of you Project/Website. Make sure __Initialize this repository with a README__ is unticked. <br><br>\n",
    "\n",
    "2.\tIn your computer, create a folder with the same name as your GitHub repository. <br><br>\n",
    "\n",
    "3.\t__Mac users__, open terminal and cd into the folder you created in Step 2. <br>\n",
    "    __Windows users__, open the folder you created in Step 2, Right Click -> Git Bash Here.\n",
    "<br><br>\n",
    "4.\tType these commands:\n",
    "\n",
    "    ```\n",
    "    echo \"# Jupyter GitHub Website\" >> README.md\n",
    "    git init\n",
    "    git add README.md\n",
    "    git commit -m \"first commit\"\n",
    "    git remote add origin *Repo_URL*\n",
    "    git push -u origin master\n",
    "    ```\n",
    "Replace Repo_URL with your GitHub repository URL.\n",
    "<br><br>\n",
    "5.\tGo to the GitHub repository you created in Step 1. Your repository should have the README.md file that you pushed in the previous step.<br><br>\n",
    "\n",
    "6. In your GitHub repository, go to settings. Scroll down to the GitHub Pages section. In the dropdown next to Source, select __master branch__. Then you will get a URL to your project website. Save it.\n",
    "\n",
    "<img src=\"screen1.PNG\">\n",
    "\n",
    "\n",
    "<br>\n",
    "\n",
    "---\n"
   ]
  },
  {
   "cell_type": "markdown",
   "metadata": {
    "hideCode": false,
    "hidePrompt": false
   },
   "source": [
    "Packages\n",
    "---\n",
    "<br>\n",
    "\n",
    "<img src=\"extn.PNG\" width=100 height=100 align=right>\n",
    "\n",
    "\n",
    "After installing Anaconda distribution <br>\n",
    "- __Windows users__, open Anaconda Prompt from Start Menu. <br>\n",
    "- __Mac users__, open a terminal window. \n",
    "<br>\n",
    "<br>\n",
    "\n",
    "#### 1. Jupyter Notebook Extensions\n",
    "<br>\n",
    "\n",
    "Install __Jupyter Notebook Extensions__ by typing the following commands at command prompt: \n",
    "\n",
    "\n",
    "```\n",
    "pip install jupyter_contrib_nbextensions \n",
    "jupyter contrib nbextension install --user\n",
    "```\n",
    "<br>\n",
    " \n",
    "If you get error: __jupyter: 'contrib' is not a Jupyter command__, try the following commands instead:\n",
    "<br>\n",
    "\n",
    "\n",
    "__Mac__: ``` python /Users/user_name/anaconda3/lib/python3.7/site-packages/jupyter_contrib_core/application.py nbextension install –user ```\n",
    "<br>\n",
    "__Windows__: ``` python C:/Users/user_name/AppData/Roaming/Python/Python37/site-packages/jupyter_contrib_core/application.py nbextension install –user ```\n",
    "\n",
    "<br>\n",
    "\n",
    "Based on your operating system and the version of Anaconda distribution at the time of your installation, your path may be different.\n",
    "<br>\n",
    "\n",
    "If you still have trouble finding the path, type ```pip uninstall jupyter_contrib_nbextensions``` but don’t uninstall it, then you will get the path where jupyter_contrib_nbextensions is installed.\n",
    "\n",
    "More info can be found at this __[link](https://github.com/ipython-contrib/jupyter_contrib_nbextensions/issues/848)__.\n"
   ]
  },
  {
   "cell_type": "markdown",
   "metadata": {
    "hideCode": false,
    "hidePrompt": false
   },
   "source": [
    "#### 2. Hide Code\n",
    "<br>\n",
    "\n",
    "Hide Code is a Jupyter Notebook extension that enables hide code cells, export to HTML, export to PDF and other customizations to Jupyter Notebook. <br>\n",
    "More information on hide_code can be found at this __[link](https://github.com/kirbs-/hide_code)__.\n",
    "<br><br>\n",
    "\n",
    "Install __hide_code__ with the following command: \n",
    "\n",
    "```\n",
    "pip install hide_code\n",
    "jupyter nbextension install --py hide_code\n",
    "jupyter nbextension enable --py hide_code\n",
    "```"
   ]
  },
  {
   "cell_type": "markdown",
   "metadata": {
    "hideCode": false,
    "hidePrompt": false
   },
   "source": [
    "#### 3.\tJupyter Themes\n",
    "<br>\n",
    "\n",
    "Jupyter themes helps customize the Jupyter Notebook interface. More information about Jupyter Themes can  be found at this __[link](https://github.com/dunovank/jupyter-themes)__. \n",
    "<br>\n",
    "\n",
    "\n",
    "Install __Jupyter themes__ using the following command:\n",
    "\n",
    "```\n",
    "pip install jupyterthemes\n",
    "```\n",
    "\n",
    "<br>\n",
    "\n",
    "I am using the following customization for my notebooks:\n",
    "\n",
    "```\n",
    "Jt -N -T -f firacode -tf robotosans -nf latosans -fs 99 -tfs 11 -nfs 111 -dfs 105 -ofs 105 -cellw 66% -t grade3\n",
    "```\n",
    "<br>\n",
    "\n",
    "More detailed customization details can be found at this __[link](https://qiita.com/koikoi_jam/items/29d9ef4e16a42038325c)__.\n",
    "\n",
    "<br>\n",
    "\n",
    "---"
   ]
  },
  {
   "cell_type": "markdown",
   "metadata": {
    "hideCode": false,
    "hidePrompt": false
   },
   "source": [
    "Customising the Customized Style Sheets\n",
    "---\n",
    "<br>\n",
    "\n",
    "\n",
    "1. Open __.jupyter__ folder. It is usually a hidden folder so sure that you enable __Show hidden files option__ in your computer\n",
    "\n",
    "    - Windows users can find the folder at ```C:\\users\\user_name\\.jupyter```\n",
    "\n",
    "    - Mac users can find the folder at ```/Users/user_name/.jupyter```\n",
    "<br><br>\n",
    "2.\tGo to the __custom__ folder and open __custom.css__ with a text editor of your choice and paste the following lines anywhere:\n",
    "\n",
    "    ```\n",
    "    img {\n",
    "    display: block;\n",
    "    margin-left: auto;\n",
    "    margin-right:auto;\n",
    "    }\n",
    "    div.output_area .rendered_html table {\n",
    "    margin-left: auto;\n",
    "    margin-right:auto;\n",
    "    }\n",
    "    ```\n",
    "<br>\n",
    "Save and close the custom.css file. (The above code aligns the plots, images and tables to the center of the notebook/HTML page) <br><br>\n",
    "\n",
    "3.\tNow copy all the files in the custom folder and paste them to the Project/Website folder that you created earlier.\n",
    "<br>\n",
    "<br>\n",
    "\n",
    "---"
   ]
  },
  {
   "cell_type": "markdown",
   "metadata": {
    "hideCode": false,
    "hidePrompt": false
   },
   "source": [
    "Tweaking Jupyter Notebook Extensions\n",
    "---\n",
    "<br>\n",
    "\n",
    "1. Open Jupyter Notebook. \n",
    "\n",
    "    - Windows users, type Jupyter Notebook at Start Menu. \n",
    "    - Mac users, type jupyter notebook in the terminal.\n",
    "<br><br>\n",
    "2. This opens jupyter notebook in a browser. Navigate to the Project/Website folder that you created earlier and select a __New Python 3 Notebook__ from the dropdown at __top right__ corner. <br><br>\n",
    "\n",
    "3.\tGo to Edit -> nbextensions config. <br><br>\n",
    "\n",
    "4.\tIf ticked, Untick the __disable configuration for nbextensions without explicit compatibility__. <br><br>\n",
    "\n",
    "5.\tTick __Hide input__ <br><br>\n",
    "\n",
    "6.\tTick __Hide input all__ <br><br>\n",
    "\n",
    "7. You can check out and enable other extensions according to your requirement.\n",
    "\n",
    "\n",
    "Now we are done with the one time set up steps. \n",
    "\n",
    "<br>\n",
    "<br>\n",
    "\n",
    "---\n"
   ]
  },
  {
   "cell_type": "markdown",
   "metadata": {
    "hideCode": false,
    "hidePrompt": false,
    "hide_input": true
   },
   "source": [
    "End Game\n",
    "---\n",
    "<br>\n",
    "\n",
    "1. Go back to the Jupyter Notebook that you created earlier. Create a markdown cell and put in some text such as name of your project. Rename the notebook as as __index__. <br><br>\n",
    "\n",
    "2. Hit Save. In the toolbar, click the __Export to HTML button__. This will download a HTML file with same name as our notebook in the downloads folders. Drag this file into the Project/Website folder that you created earlier.<br><br>\n",
    "\n",
    "3. Make sure every time you __create__ a new notebook and generate a HTML file of it, update the index notebook to include a link to these HTML files and repeat step 2.<br><br>\n",
    "\n",
    "4. Now, create a new Notebook, do some coding and analysis. Once you are done, hit Save.<br><br>\n",
    "\n",
    "5. Click the __Toggle Everything__ button in the toolbar. This will hide all the code from the notebook. Click the __Hide Codecell Inputs__ button in the toolbar. This will hide all the chuncks of code from the notebook and we are left with a beautiful layout.<br><br>\n",
    "\n",
    "6. If you do not want to hide the code cells, you can skip step 5. <br><br>\n",
    "\n",
    "7. If you want to hide only selected cells, Go to View -> Cell Toolbar and select __Hide Code__. This enables you to tweak each cell individually.<br><br>\n",
    "\n",
    "8. Repeat step 2 every time you __create a new notebook or update a current notebook__. Remember, __do not use the download as HTML from File menu__. This won't preserve the hide code functionalities in your HTML file.<br><br>\n",
    "\n",
    "9. Finally push the files from your local folder to your GitHub repository. __[Steps](https://help.github.com/en/articles/adding-a-file-to-a-repository-using-the-command-line)__ <br><br>\n",
    "\n",
    "10. Once you push the files to your github repository, your website is ready at the URL provided by GitHub in the last step of __Configure Project Repositories__ section above.<br><br>\n",
    "\n",
    "---"
   ]
  }
 ],
 "metadata": {
  "hide_code_all_hidden": false,
  "hide_input": false,
  "kernelspec": {
   "display_name": "Python 3",
   "language": "python",
   "name": "python3"
  },
  "language_info": {
   "codemirror_mode": {
    "name": "ipython",
    "version": 3
   },
   "file_extension": ".py",
   "mimetype": "text/x-python",
   "name": "python",
   "nbconvert_exporter": "python",
   "pygments_lexer": "ipython3",
   "version": "3.7.1"
  }
 },
 "nbformat": 4,
 "nbformat_minor": 2
}
