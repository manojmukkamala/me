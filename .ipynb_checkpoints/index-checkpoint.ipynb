{
 "cells": [
  {
   "cell_type": "markdown",
   "metadata": {
    "hideCode": true,
    "hidePrompt": true,
    "hide_input": true
   },
   "source": [
    "# <center>MANOJ MUKKAMALA <center>\n",
    "---"
   ]
  },
  {
   "cell_type": "markdown",
   "metadata": {
    "hideCode": true,
    "hidePrompt": true
   },
   "source": [
    "### Welcome to my Web Presence"
   ]
  },
  {
   "cell_type": "markdown",
   "metadata": {
    "hideCode": true,
    "hidePrompt": true
   },
   "source": [
    "<img src=\"space.png\" width=1600 height=900>"
   ]
  },
  {
   "cell_type": "markdown",
   "metadata": {
    "hideCode": true,
    "hidePrompt": true
   },
   "source": [
    "<center>Mankind was born on Earth. It was never meant to die here - Interstellar<center>"
   ]
  },
  {
   "cell_type": "markdown",
   "metadata": {
    "hideCode": true,
    "hidePrompt": true
   },
   "source": [
    "---"
   ]
  },
  {
   "cell_type": "markdown",
   "metadata": {
    "hideCode": true,
    "hidePrompt": true
   },
   "source": [
    "## <center> ABOUT ME <center>\n",
    "\n",
    "#### I Speak\n",
    "__Proficient:__ Telugu, English, Hindi.<br>\n",
    "__Rudimentary:__ Spanish, Morse\n",
    "<br><br>\n",
    "\n",
    "#### I Love\n",
    "__Science:__ Astronomy, Quantum Physics<br>\n",
    "__Tech:__ Quantum Computers, CRISPR, AI, CV, Robots<br>\n",
    "__Spirituality:__ Meditation, Connecting Science & Spirituality<br>\n",
    "__Other:__ Nutritious Food, Fitness<br>\n",
    "\n",
    "[Futurism](https://futurism.com/) is my messenger of Science and Tech updates.\n",
    "<br><br>\n",
    "\n",
    "#### I Work \n",
    "Currently a Data Analyst primarily working with <br>\n",
    "__Tools:__ Python, SQL, R, PySpark, AWS <br>\n",
    "__Tasks:__ Data Analysis, Data Visualization, Data Cleansing, Data Engineering <br>\n",
    "\n",
    "I crave for Data Science & Machine Learning. "
   ]
  },
  {
   "cell_type": "markdown",
   "metadata": {
    "hideCode": true,
    "hidePrompt": true
   },
   "source": [
    "---"
   ]
  },
  {
   "cell_type": "markdown",
   "metadata": {
    "hideCode": true,
    "hidePrompt": true
   },
   "source": [
    "## <center>PROJECTS<center>\n",
    "\n",
    "\n",
    "###  GiJu\n",
    "- GiJu is shorthand notation for GitHub and Jupyter Notebook. You can use just your GitHub Repo and jupyter Notebook to create breautiful websites similar to this page.\n",
    "- __GiJu__ documentation can be found at __[GiJu Documentation](giju/giju.html)__.\n",
    "<br><br>\n",
    "\n",
    "### Volcanoes On Venus\n",
    "- Volcanoes on Venus is a Machine Learning Project to identify Volcanoes in a given Venus surface image.\n",
    "- __Volcanoes On Venus__ documentation can be found at __[VolcanoesOnVenus Documentaion](https://manojmukkamala.github.io/VolcanoesOnVenus/)__. \n",
    "<br><br>\n",
    "\n",
    "\n",
    "### Play Ground\n",
    "I have created the following data visualizations in Jupyter Notebook and created beautiful reports out of it by following the steps in Project GiJu. These are still Work In Progress.\n",
    "\n",
    "<img src=\"wip.png\" width=200 height=100 align=right>\n",
    "\n",
    "- __[DataVisualization](pythonreports/DataVisualization.html)__ page has the exercises from Kaggle's __[Data Visualization](https://www.kaggle.com/alexisbcook/hello-seaborn)__ course.\n",
    "\n",
    "- __[DataVisualizationfromNon-CoderToCoder](pythonreports/DataVisualizationfromNon-CoderToCoder.html)__ page has the exercises from Kaggle's another __[Data Visualization](https://www.kaggle.com/residentmario/welcome-to-data-visualization)__ course.\n",
    "<br>"
   ]
  },
  {
   "cell_type": "markdown",
   "metadata": {
    "hideCode": true,
    "hidePrompt": true
   },
   "source": [
    "---"
   ]
  },
  {
   "cell_type": "markdown",
   "metadata": {
    "hideCode": true,
    "hidePrompt": true
   },
   "source": [
    "## <center> MORE ME <center>\n",
    "\n",
    "\n",
    "#### Podcasts & Movie Technique\n",
    "\n",
    "<img src=\"pod.png\" width=200 height=100 align=right>\n",
    "\n",
    "I recently started listening to Podcasts while working out and I found this guy named AJ Hoge who runs the [Effortless English Club](https://effortlessenglishclub.com/). \n",
    "\n",
    "His podcasts are really cool and I particularly liked his [Movie Technique](https://www.youtube.com/watch?v=791cOfTEkEc). \n",
    "\n",
    "Movie Technique is a method to improve English Speaking using a Movie. \n",
    "\n",
    "Also, I love the podcasts from [Farnam Street](https://fs.blog/the-knowledge-project/). They are very informative.\n",
    "<br><br><br>\n",
    "\n",
    "\n",
    "#### TED Talks\n",
    "\n",
    "I feel TED talks are like Gatorades for Motivation. Provides Instant Relief from Depression.\n",
    "\n",
    "I have a list of TED talks that are my favourites but this TED talk by Stephen Duneier is very inspiring and worth sharing"
   ]
  },
  {
   "cell_type": "code",
   "execution_count": 7,
   "metadata": {
    "hideCode": true,
    "hidePrompt": true,
    "hide_input": true
   },
   "outputs": [
    {
     "data": {
      "text/html": [
       "\n",
       "<center><iframe width=\"560\" height=\"315\" src=\"https://www.youtube.com/embed/TQMbvJNRpLE\" frameborder=\"0\" allow=\"accelerometer; autoplay; encrypted-media; gyroscope; picture-in-picture\" allowfullscreen></iframe></center>\n"
      ],
      "text/plain": [
       "<IPython.core.display.HTML object>"
      ]
     },
     "metadata": {},
     "output_type": "display_data"
    }
   ],
   "source": [
    "%%html\n",
    "\n",
    "<center><iframe width=\"560\" height=\"315\" src=\"https://www.youtube.com/embed/TQMbvJNRpLE\" frameborder=\"0\" allow=\"accelerometer; autoplay; encrypted-media; gyroscope; picture-in-picture\" allowfullscreen></iframe></center>"
   ]
  },
  {
   "cell_type": "markdown",
   "metadata": {
    "hideCode": true,
    "hidePrompt": true
   },
   "source": [
    "<br>\n",
    "\n",
    "### Books\n",
    "\n",
    "Of Course, __Hitchhikers Guide to the Galaxy__. It's Traditional!\n",
    "\n",
    "__Problem Solving 101__ is interesting read.\n",
    "\n",
    "__Power of SubConscious Mind__, and __Think & Grow Rich__, are my favourites in Self Improvement Genre."
   ]
  }
 ],
 "metadata": {
  "hide_code_all_hidden": true,
  "hide_input": true,
  "kernelspec": {
   "display_name": "Python 3",
   "language": "python",
   "name": "python3"
  },
  "language_info": {
   "codemirror_mode": {
    "name": "ipython",
    "version": 3
   },
   "file_extension": ".py",
   "mimetype": "text/x-python",
   "name": "python",
   "nbconvert_exporter": "python",
   "pygments_lexer": "ipython3",
   "version": "3.7.1"
  }
 },
 "nbformat": 4,
 "nbformat_minor": 2
}
